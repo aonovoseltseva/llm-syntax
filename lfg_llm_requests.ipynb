{
  "nbformat": 4,
  "nbformat_minor": 0,
  "metadata": {
    "colab": {
      "provenance": [],
      "include_colab_link": true
    },
    "kernelspec": {
      "name": "python3",
      "display_name": "Python 3"
    },
    "language_info": {
      "name": "python"
    }
  },
  "cells": [
    {
      "cell_type": "markdown",
      "metadata": {
        "id": "view-in-github",
        "colab_type": "text"
      },
      "source": [
        "<a href=\"https://colab.research.google.com/github/aonovoseltseva/llm-syntax/blob/main/lfg_llm_requests.ipynb\" target=\"_parent\"><img src=\"https://colab.research.google.com/assets/colab-badge.svg\" alt=\"Open In Colab\"/></a>"
      ]
    },
    {
      "cell_type": "markdown",
      "source": [
        "Установка Groq"
      ],
      "metadata": {
        "id": "FhoMtidqxGuX"
      }
    },
    {
      "cell_type": "code",
      "execution_count": null,
      "metadata": {
        "colab": {
          "base_uri": "https://localhost:8080/"
        },
        "id": "WB_4LPu4wzSu",
        "outputId": "3fe1b487-639a-4946-a7d4-185b650eb2e4"
      },
      "outputs": [
        {
          "output_type": "stream",
          "name": "stdout",
          "text": [
            "Collecting groq\n",
            "  Downloading groq-0.24.0-py3-none-any.whl.metadata (15 kB)\n",
            "Requirement already satisfied: anyio<5,>=3.5.0 in /usr/local/lib/python3.11/dist-packages (from groq) (4.9.0)\n",
            "Requirement already satisfied: distro<2,>=1.7.0 in /usr/local/lib/python3.11/dist-packages (from groq) (1.9.0)\n",
            "Requirement already satisfied: httpx<1,>=0.23.0 in /usr/local/lib/python3.11/dist-packages (from groq) (0.28.1)\n",
            "Requirement already satisfied: pydantic<3,>=1.9.0 in /usr/local/lib/python3.11/dist-packages (from groq) (2.11.4)\n",
            "Requirement already satisfied: sniffio in /usr/local/lib/python3.11/dist-packages (from groq) (1.3.1)\n",
            "Requirement already satisfied: typing-extensions<5,>=4.10 in /usr/local/lib/python3.11/dist-packages (from groq) (4.13.2)\n",
            "Requirement already satisfied: idna>=2.8 in /usr/local/lib/python3.11/dist-packages (from anyio<5,>=3.5.0->groq) (3.10)\n",
            "Requirement already satisfied: certifi in /usr/local/lib/python3.11/dist-packages (from httpx<1,>=0.23.0->groq) (2025.4.26)\n",
            "Requirement already satisfied: httpcore==1.* in /usr/local/lib/python3.11/dist-packages (from httpx<1,>=0.23.0->groq) (1.0.9)\n",
            "Requirement already satisfied: h11>=0.16 in /usr/local/lib/python3.11/dist-packages (from httpcore==1.*->httpx<1,>=0.23.0->groq) (0.16.0)\n",
            "Requirement already satisfied: annotated-types>=0.6.0 in /usr/local/lib/python3.11/dist-packages (from pydantic<3,>=1.9.0->groq) (0.7.0)\n",
            "Requirement already satisfied: pydantic-core==2.33.2 in /usr/local/lib/python3.11/dist-packages (from pydantic<3,>=1.9.0->groq) (2.33.2)\n",
            "Requirement already satisfied: typing-inspection>=0.4.0 in /usr/local/lib/python3.11/dist-packages (from pydantic<3,>=1.9.0->groq) (0.4.0)\n",
            "Downloading groq-0.24.0-py3-none-any.whl (127 kB)\n",
            "\u001b[?25l   \u001b[90m━━━━━━━━━━━━━━━━━━━━━━━━━━━━━━━━━━━━━━━━\u001b[0m \u001b[32m0.0/127.5 kB\u001b[0m \u001b[31m?\u001b[0m eta \u001b[36m-:--:--\u001b[0m\r\u001b[2K   \u001b[90m━━━━━━━━━━━━━━━━━━━━━━━━━━━━━━━━━━━━━━━━\u001b[0m \u001b[32m127.5/127.5 kB\u001b[0m \u001b[31m5.5 MB/s\u001b[0m eta \u001b[36m0:00:00\u001b[0m\n",
            "\u001b[?25hInstalling collected packages: groq\n",
            "Successfully installed groq-0.24.0\n"
          ]
        }
      ],
      "source": [
        "!pip install groq"
      ]
    },
    {
      "cell_type": "markdown",
      "source": [
        "Инициализация клиента"
      ],
      "metadata": {
        "id": "IdHxHUKWxJEB"
      }
    },
    {
      "cell_type": "code",
      "source": [
        "from groq import Groq\n",
        "api_key = 'GROQ_API_KEYclient = Groq(api_key=api_key)"
      ],
      "metadata": {
        "id": "FYpUYnejw0se"
      },
      "execution_count": null,
      "outputs": []
    },
    {
      "cell_type": "code",
      "source": [
        "models = client.models.list()\n",
        "print(models)"
      ],
      "metadata": {
        "id": "qE1ZuSDNJx7K",
        "outputId": "e2e2bac2-2b06-4a90-f6d5-86786252e09d",
        "colab": {
          "base_uri": "https://localhost:8080/"
        }
      },
      "execution_count": null,
      "outputs": [
        {
          "output_type": "stream",
          "name": "stdout",
          "text": [
            "ModelListResponse(data=[Model(id='meta-llama/llama-4-scout-17b-16e-instruct', created=1743874824, object='model', owned_by='Meta', active=True, context_window=131072, public_apps=None, max_completion_tokens=8192), Model(id='llama-3.1-8b-instant', created=1693721698, object='model', owned_by='Meta', active=True, context_window=131072, public_apps=None, max_completion_tokens=131072), Model(id='qwen-qwq-32b', created=1741214760, object='model', owned_by='Alibaba Cloud', active=True, context_window=131072, public_apps=None, max_completion_tokens=131072), Model(id='meta-llama/llama-guard-4-12b', created=1746743847, object='model', owned_by='Meta', active=True, context_window=131072, public_apps=None, max_completion_tokens=1024), Model(id='llama3-8b-8192', created=1693721698, object='model', owned_by='Meta', active=True, context_window=8192, public_apps=None, max_completion_tokens=8192), Model(id='allam-2-7b', created=1737672203, object='model', owned_by='SDAIA', active=True, context_window=4096, public_apps=None, max_completion_tokens=4096), Model(id='gemma2-9b-it', created=1693721698, object='model', owned_by='Google', active=True, context_window=8192, public_apps=None, max_completion_tokens=8192), Model(id='mistral-saba-24b', created=1739996492, object='model', owned_by='Mistral AI', active=True, context_window=32768, public_apps=None, max_completion_tokens=32768), Model(id='whisper-large-v3-turbo', created=1728413088, object='model', owned_by='OpenAI', active=True, context_window=448, public_apps=None, max_completion_tokens=448), Model(id='llama-3.3-70b-versatile', created=1733447754, object='model', owned_by='Meta', active=True, context_window=131072, public_apps=None, max_completion_tokens=32768), Model(id='distil-whisper-large-v3-en', created=1693721698, object='model', owned_by='Hugging Face', active=True, context_window=448, public_apps=None, max_completion_tokens=448), Model(id='playai-tts-arabic', created=1740682783, object='model', owned_by='PlayAI', active=True, context_window=8192, public_apps=None, max_completion_tokens=8192), Model(id='compound-beta', created=1740880017, object='model', owned_by='Groq', active=True, context_window=8192, public_apps=None, max_completion_tokens=8192), Model(id='llama-guard-3-8b', created=1693721698, object='model', owned_by='Meta', active=True, context_window=8192, public_apps=None, max_completion_tokens=8192), Model(id='llama3-70b-8192', created=1693721698, object='model', owned_by='Meta', active=True, context_window=8192, public_apps=None, max_completion_tokens=8192), Model(id='whisper-large-v3', created=1693721698, object='model', owned_by='OpenAI', active=True, context_window=448, public_apps=None, max_completion_tokens=448), Model(id='playai-tts', created=1740682771, object='model', owned_by='PlayAI', active=True, context_window=8192, public_apps=None, max_completion_tokens=8192), Model(id='meta-llama/llama-4-maverick-17b-128e-instruct', created=1743877158, object='model', owned_by='Meta', active=True, context_window=131072, public_apps=None, max_completion_tokens=8192), Model(id='compound-beta-mini', created=1742953279, object='model', owned_by='Groq', active=True, context_window=8192, public_apps=None, max_completion_tokens=8192), Model(id='deepseek-r1-distill-llama-70b', created=1737924940, object='model', owned_by='DeepSeek / Meta', active=True, context_window=131072, public_apps=None, max_completion_tokens=131072)], object='list')\n"
          ]
        }
      ]
    },
    {
      "cell_type": "markdown",
      "source": [
        "Запросы к LLM"
      ],
      "metadata": {
        "id": "MAEUi3AjxKuo"
      }
    },
    {
      "cell_type": "markdown",
      "source": [
        "an example for annotation is an adoptated (by me..) version of another example from the #Bozhil Hristov. 2023. LFG and Slavic languages. In Mary Dalrymple (ed.), Handbook\n",
        "of Lexical Functional Grammar, 1753–1804. Berlin: Language Science Press. DOI: 10.\n",
        "5281/zenodo.10186030"
      ],
      "metadata": {
        "id": "80Wq3HEWMZVI"
      }
    },
    {
      "cell_type": "markdown",
      "source": [
        "Prompt option1"
      ],
      "metadata": {
        "id": "UI2u7stEIapN"
      }
    },
    {
      "cell_type": "code",
      "source": [
        "core_concepts = client.chat.completions.create(messages=[\n",
        "                                                            {\"role\": \"system\",\n",
        "                                                            \"content\": \"\"\"\n",
        "You are a linguist working within the Lexical-Functional Grammar (LFG) framework. Your task is to annotate Russian sentences in 4 structured steps. Please follow this process:\n",
        "\n",
        "Step 1: Annotate Morphological Features\n",
        "Assign NUM, CASE, GEND, etc., to all relevant words (especially NPs and adjectives).\n",
        "\n",
        "Step 2: Mark Syntactic Dependencies\n",
        "Mark agreement between elements (e.g., adjectives agreeing with nouns) as CONCORD.\n",
        "\n",
        "Step 3: Identify Grammatical Functions\n",
        "Assign SUBJ, OBJ, etc., as appropriate, based on syntax and semantics.\n",
        "\n",
        "Step 4: Build Unified Representation\n",
        "Write an f-structure including:\n",
        "- PRED with valence\n",
        "- SUBJ and OBJ slots filled with syntactic (s) representations and morphological info\n",
        "\n",
        "Example (for sentence: 'те хорошие дети пришли'):\n",
        "\n",
        "те (s CONCORD NUM) = PL ; (s CONCORD CASE) = NOM\n",
        "хорошие (s CONCORD NUM) = PL ; (s CONCORD CASE) = NOM\n",
        "дети (s CONCORD NUM) = PL ; (s CONCORD CASE) = NOM\n",
        "пришли (f SUBJ INDEX NUM) = PL\n",
        "f[PRED 'пришли<SUBJ>';\n",
        "  SUBJ s[PRED 'дети', SPEC 'те', ADJ {[PRED 'хорошие']}, CONCORD [NUM PL], INDEX [NUM PL]]]\n",
        "\"\"\"\n",
        "                                                            },\n",
        "                                                            {\n",
        "                                                                \"role\": \"system\",\n",
        "                                                                 \"content\": \"\"\"Here is the glossary to stay alligned with the Lexical-Functional Grammar Theory:\n",
        "                                                                 NUM\tNumber: SG, PL\n",
        "CASE\tCase: NOM, ACC, DAT, etc.\n",
        "GEND\tGender: MASC, FEM, NEUT\n",
        "PERS\tPerson: 1, 2, 3\n",
        "TENSE\tTense: PAST, PRES, etc.\n",
        "ASPECT\tAspect: PERF, IMPERF, etc.\n",
        "VOICE\tACTIVE, PASSIVE\n",
        "CONCORD\tMorphological agreement feature for modifiers (e.g., adjectives agreeing with nouns)\"\"\"\n",
        "                                                            },\n",
        "                                                            {\n",
        "                                                                \"role\": \"user\",\n",
        "                                                                \"content\": \"\"\"Your task is to annotate the following sentence: 'эти зеленые деревья зацвели' \"\"\"\n",
        "                                                            },\n",
        "\n",
        "                                                            {\n",
        "                                                                \"role\": \"user\",\n",
        "                                                                \"content\": \"\"\"Review your parse.  Are the grammatical functions, categories ans others labeled correctly?\"\"\"\n",
        "                                                            },\n",
        "\n",
        "                                                        ],\n",
        "                                                        # Форматирование ответа\n",
        "                                                        #response_format=\n",
        "                                                        #{\n",
        "                                                        #    \"type\": \"json_object\"\n",
        "                                                        #},\n",
        "                                                        model='llama-3.1-8b-instant', # Тип модели\n",
        "                                                        stream=False,\n",
        "                                                        max_tokens=500, # Максимальная длина выдачи, желательно поменять под задачу\n",
        "                                                        temperature=0.7, # Температура\n",
        "                                                        top_p=0.5 # Топ-P отвечает за разнообразие выдачи\n",
        "                                                        ).choices[0].message.content"
      ],
      "metadata": {
        "id": "yTf401WUIZSS"
      },
      "execution_count": null,
      "outputs": []
    },
    {
      "cell_type": "code",
      "source": [
        "print (core_concepts)"
      ],
      "metadata": {
        "id": "re7a727iAQgZ",
        "colab": {
          "base_uri": "https://localhost:8080/"
        },
        "outputId": "e1e6b70b-e75f-4ea1-bc00-2638559472b8"
      },
      "execution_count": null,
      "outputs": [
        {
          "output_type": "stream",
          "name": "stdout",
          "text": [
            "Let's review the annotation for the sentence 'эти зеленые деревья зацвели'.\n",
            "\n",
            "1. Annotate grammatical classes:\n",
            "\n",
            "эти (s concord NUM) = PL ; (s concord CASE) = NOM ; (s concord GEND) = NEUT\n",
            "зеленые (s concord NUM) = PL ; (s concord CASE) = NOM ; (s concord GEND) = NEUT\n",
            "деревья (s concord NUM) = PL ; (s concord CASE) = NOM ; (s concord GEND) = NEUT\n",
            "затцвели (f SUBJ INDEX NUM) = PL\n",
            "\n",
            "2. Identify syntactic dependencies (concord, agreement):\n",
            "\n",
            "The adjectives 'зеленые' agree with the noun 'деревья' in number (PL) and case (NOM), and gender (NEUT).\n",
            "\n",
            "3. Mark grammatical functions:\n",
            "\n",
            "The sentence has the following grammatical functions:\n",
            "- SUBJ: зацвели\n",
            "- OBJ: деревья\n",
            "\n",
            "4. Relate f-structure and c-structure in a unified representation:\n",
            "\n",
            "f[PRED ‘затцвели<SUBJ>’;\n",
            "  SUBJ s[PRED ‘деревья’, SPEC ‘эти’, ADJ {[PRED ‘зеленые’]}, CONCORD [NUM PL, CASE NOM, GEND NEUT], INDEX [NUM PL]]]\n",
            "\n",
            "However, there are some issues with the annotation:\n",
            "- The subject 'эти зеленые деревья' is not correctly annotated as a single constituent.\n",
            "- The adjective 'зеленые' is not correctly annotated as agreeing with the noun 'деревья' in number, case, and gender.\n",
            "- The verb 'затцвели' is not correctly annotated as agreeing with the subject in number.\n",
            "\n",
            "Here is the corrected annotation:\n",
            "\n",
            "1. Annotate grammatical classes:\n",
            "\n",
            "эти (s concord NUM) = PL ; (s concord CASE) = NOM ; (s concord GEND) = NEUT\n",
            "зеленые (s concord NUM) = PL ; (s concord CASE) = NOM ; (s concord GEND) = NEUT\n",
            "деревья (s concord NUM) = PL ; (s concord CASE) = NOM ; (s concord GEND) = NEUT\n",
            "затцвели (f SUBJ INDEX NUM) = PL\n"
          ]
        }
      ]
    },
    {
      "cell_type": "markdown",
      "source": [
        "Prompt option2: the glossary is full"
      ],
      "metadata": {
        "id": "PYdIX8rnIetG"
      }
    },
    {
      "cell_type": "code",
      "source": [
        "core_concepts = client.chat.completions.create(messages=[\n",
        "                                                            {\n",
        "                                                              \"role\": \"system\",\n",
        "                                                              \"content\":\n",
        "\"\"\"You are a linguist working in the Lexical-Functional Grammar (LFG) framework. Your goal is to perform precise syntactic annotation of Russian sentences, following these four steps:\\n\\\n",
        "1. Annotate grammatical categories (e.g., NUM, CASE, GEND) for all relevant words.\n",
        "2. Identify agreement relations (e.g., concord between determiners, adjectives, and nouns).\n",
        "3. Assign grammatical functions (e.g., SUBJ, OBJ, etc.) and link them to lexical predicates.\n",
        "4. Represent the unified f-structure based on grammatical roles and their syntactic expressions.\n",
        "\n",
        "Use the following format for annotation:\n",
        "<word> (s concord <FEATURE>) = <VALUE>\n",
        "<verb> (f <FUNCTION> INDEX <FEATURE>) = <VALUE>\n",
        "f[PRED ‘<predicate<SUBJ, OBJ, ...>>’; SUBJ ..., OBJ ..., ...]\"\"\"\n",
        "                                                            },\n",
        "                                                              {\n",
        "                                                              \"role\": \"system\",\n",
        "                                                              \"content\": \"\"\"\n",
        "Here is an example annotation:\n",
        "Sentence: 'те хорошие дети пришли'\n",
        "те (s concord NUM) = PL ; (s concord CASE) = NOM\n",
        "хорошие (s concord NUM) = PL ; (s concord CASE) = NOM\n",
        "дети (s concord NUM) = PL ; (s concord CASE) = NOM\n",
        "пришли (f SUBJ INDEX NUM) = PL\n",
        "f[PRED ‘пришли<SUBJ>’; SUBJ s[PRED ‘дети’, SPEC ‘те’, ADJ {[PRED ‘хорошие’]}, CONCORD [NUM PL], INDEX [NUM PL]]]\"\"\"\n",
        "                                                            },\n",
        "                                                            {\n",
        "                                                              \"role\": \"system\",\n",
        "                                                              \"content\": \"\"\"Here is the glossary to stay aligned with the Lexical-Functional Grammar (LFG) Theory:\n",
        "GRAMMATICAL FEATURES\n",
        "NUM — Number: SG (singular), PL (plural)\n",
        "CASE — Case: NOM (nominative), ACC (accusative), DAT (dative), GEN (genitive), INS (instrumental), LOC (locative), etc.  \\n\\\n",
        "GEND — Gender: MASC (masculine), FEM (feminine), NEUT (neuter)\n",
        "PERS — Person: 1 (first), 2 (second), 3 (third)\n",
        "TENSE — Tense: PAST, PRES, FUT\n",
        "ASPECT — Aspect: PERF (perfective), IMPERF (imperfective)\n",
        "VOICE — Voice: ACTIVE, PASSIVE\n",
        "MOOD — Mood: IND (indicative), IMP (imperative), SUBJ (subjunctive)\n",
        "CONCORD — Agreement features, usually between determiners, adjectives, and nouns (NUM, CASE, GEND)\n",
        "INDEX — Feature bundle used to track identity and agreement between elements (e.g., between subject and verb)\n",
        "\n",
        "SUBJ — Subject (core argument)\n",
        "OBJ — Object (core argument)\n",
        "IOBJ — Indirect object\n",
        "OBL — Oblique (non-core argument, typically marked with preposition or case)\n",
        "COMP — Closed complement (clausal complement with subject)\n",
        "XCOMP — Open complement (clausal complement without subject, subject is controlled)\n",
        "ADJUNCT — Modifier (optional, peripheral element)\n",
        "SPEC — Specifier (e.g., demonstratives or determiners like 'этот', 'тот')\n",
        "ADJ — Adjective or modifier inside a noun phrase\n",
        "STRUCTURE MAPPINGS\n",
        "C-structure — Constituent structure (phrase structure tree: S → NP + VP, etc.)\n",
        "F-structure — Functional structure: abstract mapping of functions and features (e.g., SUBJ, OBJ, TENSE)\n",
        "PRED — Predicate representation: 'читать<SUBJ,OBJ>'\n",
        "(↑ SUBJ) = ↓ — Mapping rule: the daughter node is the SUBJ of the mother node\n",
        "↑ = ↓ — Identity between nodes (shared features)\n",
        "Use this glossary to ensure consistency and theoretical accuracy when annotating or revising sentence structures in LFG.\"\"\"\n",
        "                                                            },\n",
        "                                                            {\n",
        "                                                                \"role\": \"user\",\n",
        "                                                                \"content\": \"\"\"Your task is to annotate the following sentence: 'эти зеленые деревья зацвели' \"\"\"\n",
        "                                                            },\n",
        "\n",
        "                                                            {\n",
        "                                                                \"role\": \"user\",\n",
        "                                                                \"content\": \"\"\"Review your parse.  Are the grammatical functions, categories ans others labeled correctly?\"\"\"\n",
        "                                                            },\n",
        "\n",
        "                                                        ],\n",
        "                                                        # Форматирование ответа\n",
        "                                                        #response_format=\n",
        "                                                        #{\n",
        "                                                        #    \"type\": \"json_object\"\n",
        "                                                        #},\n",
        "                                                        model='llama-3.1-8b-instant', # Тип модели\n",
        "                                                        stream=False,\n",
        "                                                        max_tokens=500, # Максимальная длина выдачи, желательно поменять под задачу\n",
        "                                                        temperature=0.7, # Температура\n",
        "                                                        top_p=0.5 # Топ-P отвечает за разнообразие выдачи\n",
        "                                                        ).choices[0].message.content"
      ],
      "metadata": {
        "id": "Cn87wyZCxWdl"
      },
      "execution_count": null,
      "outputs": []
    },
    {
      "cell_type": "code",
      "source": [
        "print (core_concepts)"
      ],
      "metadata": {
        "id": "weMP2xrWLQtd"
      },
      "execution_count": null,
      "outputs": []
    },
    {
      "cell_type": "markdown",
      "source": [
        "Prompt option3: the example is given as the last system content (perhaps will be memorised better by the model)\n"
      ],
      "metadata": {
        "id": "5S4IKAVOLa0H"
      }
    },
    {
      "cell_type": "code",
      "source": [
        "core_concepts = client.chat.completions.create(messages=[\n",
        "                                                            {\n",
        "                                                              \"role\": \"system\",\n",
        "                                                              \"content\":\n",
        "\"\"\"You are a linguist working in the Lexical-Functional Grammar (LFG) framework. Your goal is to perform precise syntactic annotation of Russian sentences, following these four steps:\\n\\\n",
        "1. Annotate grammatical categories (e.g., NUM, CASE, GEND) for all relevant words.\n",
        "2. Identify agreement relations (e.g., concord between determiners, adjectives, and nouns).\n",
        "3. Assign grammatical functions (e.g., SUBJ, OBJ, etc.) and link them to lexical predicates.\n",
        "4. Represent the unified f-structure based on grammatical roles and their syntactic expressions.\n",
        "\n",
        "Use the following format for annotation:\n",
        "<word> (s concord <FEATURE>) = <VALUE>\n",
        "<verb> (f <FUNCTION> INDEX <FEATURE>) = <VALUE>\n",
        "f[PRED ‘<predicate<SUBJ, OBJ, ...>>’; SUBJ ..., OBJ ..., ...]\"\"\"\n",
        "                                                            },\n",
        "                                                            {\n",
        "                                                              \"role\": \"system\",\n",
        "                                                              \"content\": \"\"\"Here is the glossary to stay aligned with the Lexical-Functional Grammar (LFG) Theory:\n",
        "GRAMMATICAL FEATURES\n",
        "NUM — Number: SG (singular), PL (plural)\n",
        "CASE — Case: NOM (nominative), ACC (accusative), DAT (dative), GEN (genitive), INS (instrumental), LOC (locative), etc.  \\n\\\n",
        "GEND — Gender: MASC (masculine), FEM (feminine), NEUT (neuter)\n",
        "PERS — Person: 1 (first), 2 (second), 3 (third)\n",
        "TENSE — Tense: PAST, PRES, FUT\n",
        "ASPECT — Aspect: PERF (perfective), IMPERF (imperfective)\n",
        "VOICE — Voice: ACTIVE, PASSIVE\n",
        "MOOD — Mood: IND (indicative), IMP (imperative), SUBJ (subjunctive)\n",
        "CONCORD — Agreement features, usually between determiners, adjectives, and nouns (NUM, CASE, GEND)\n",
        "INDEX — Feature bundle used to track identity and agreement between elements (e.g., between subject and verb)\n",
        "\n",
        "SUBJ — Subject (core argument)\n",
        "OBJ — Object (core argument)\n",
        "IOBJ — Indirect object\n",
        "OBL — Oblique (non-core argument, typically marked with preposition or case)\n",
        "COMP — Closed complement (clausal complement with subject)\n",
        "XCOMP — Open complement (clausal complement without subject, subject is controlled)\n",
        "ADJUNCT — Modifier (optional, peripheral element)\n",
        "SPEC — Specifier (e.g., demonstratives or determiners like 'этот', 'тот')\n",
        "ADJ — Adjective or modifier inside a noun phrase\n",
        "STRUCTURE MAPPINGS\n",
        "C-structure — Constituent structure (phrase structure tree: S → NP + VP, etc.)\n",
        "F-structure — Functional structure: abstract mapping of functions and features (e.g., SUBJ, OBJ, TENSE)\n",
        "PRED — Predicate representation: 'читать<SUBJ,OBJ>'\n",
        "(↑ SUBJ) = ↓ — Mapping rule: the daughter node is the SUBJ of the mother node\n",
        "↑ = ↓ — Identity between nodes (shared features)\n",
        "Use this glossary to ensure consistency and theoretical accuracy when annotating or revising sentence structures in LFG.\"\"\"\n",
        "                                                            },\n",
        "                                                            {\n",
        "                                                              \"role\": \"system\",\n",
        "                                                              \"content\": \"\"\"\n",
        "Here is an example annotation:\n",
        "Sentence: 'те хорошие дети пришли'\n",
        "те (s concord NUM) = PL ; (s concord CASE) = NOM\n",
        "хорошие (s concord NUM) = PL ; (s concord CASE) = NOM\n",
        "дети (s concord NUM) = PL ; (s concord CASE) = NOM\n",
        "пришли (f SUBJ INDEX NUM) = PL\n",
        "f[PRED ‘пришли<SUBJ>’; SUBJ s[PRED ‘дети’, SPEC ‘те’, ADJ {[PRED ‘хорошие’]}, CONCORD [NUM PL], INDEX [NUM PL]]]\"\"\"\n",
        "                                                            },\n",
        "                                                            {\n",
        "                                                                \"role\": \"user\",\n",
        "                                                                \"content\": \"\"\"Your task is to annotate the following sentence: 'эти зеленые деревья зацвели' \"\"\"\n",
        "                                                            },\n",
        "\n",
        "                                                            {\n",
        "                                                                \"role\": \"user\",\n",
        "                                                                \"content\": \"\"\"Review your parse.  Are the grammatical functions, categories ans others labeled correctly?\"\"\"\n",
        "                                                            },\n",
        "\n",
        "                                                        ],\n",
        "                                                        # Форматирование ответа\n",
        "                                                        #response_format=\n",
        "                                                        #{\n",
        "                                                        #    \"type\": \"json_object\"\n",
        "                                                        #},\n",
        "                                                        model='llama-3.1-8b-instant', # Тип модели\n",
        "                                                        stream=False,\n",
        "                                                        max_tokens=500, # Максимальная длина выдачи, желательно поменять под задачу\n",
        "                                                        temperature=0.7, # Температура\n",
        "                                                        top_p=0.5 # Топ-P отвечает за разнообразие выдачи\n",
        "                                                        ).choices[0].message.content"
      ],
      "metadata": {
        "id": "T9NipLsSLrsi"
      },
      "execution_count": null,
      "outputs": []
    },
    {
      "cell_type": "code",
      "source": [
        "print (core_concepts)"
      ],
      "metadata": {
        "id": "43qIymMKL1ie"
      },
      "execution_count": null,
      "outputs": []
    },
    {
      "cell_type": "markdown",
      "source": [
        "Benchmarks: treebank ru?\n",
        "https://universaldependencies.org/treebanks/ru_syntagrus/index.html\n",
        "https://universaldependencies.org/treebanks/ru_gsd/index.html#ud-russian-gsd\n",
        "https://universaldependencies.org/treebanks/ru_taiga/index.html#ud-russian-taiga\n",
        "https://universaldependencies.org/treebanks/ru_pud/index.html#ud-russian-pud"
      ],
      "metadata": {
        "id": "XRfHslog76Cb"
      }
    }
  ]
}