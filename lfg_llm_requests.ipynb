{
  "cells": [
    {
      "cell_type": "markdown",
      "metadata": {
        "colab_type": "text",
        "id": "view-in-github"
      },
      "source": [
        "<a href=\"https://colab.research.google.com/github/aonovoseltseva/llm-syntax/blob/main/lfg_llm_requests.ipynb\" target=\"_parent\"><img src=\"https://colab.research.google.com/assets/colab-badge.svg\" alt=\"Open In Colab\"/></a>"
      ]
    },
    {
      "cell_type": "markdown",
      "metadata": {
        "id": "FhoMtidqxGuX"
      },
      "source": [
        "Установка Groq"
      ]
    },
    {
      "cell_type": "code",
      "execution_count": 4,
      "metadata": {
        "colab": {
          "base_uri": "https://localhost:8080/"
        },
        "id": "WB_4LPu4wzSu",
        "outputId": "3fe1b487-639a-4946-a7d4-185b650eb2e4"
      },
      "outputs": [
        {
          "name": "stdout",
          "output_type": "stream",
          "text": [
            "Requirement already satisfied: groq in /Users/novoseltseva.a/anaconda3/lib/python3.11/site-packages (0.25.0)\n",
            "Requirement already satisfied: anyio<5,>=3.5.0 in /Users/novoseltseva.a/anaconda3/lib/python3.11/site-packages (from groq) (3.5.0)\n",
            "Requirement already satisfied: distro<2,>=1.7.0 in /Users/novoseltseva.a/anaconda3/lib/python3.11/site-packages (from groq) (1.9.0)\n",
            "Requirement already satisfied: httpx<1,>=0.23.0 in /Users/novoseltseva.a/anaconda3/lib/python3.11/site-packages (from groq) (0.26.0)\n",
            "Requirement already satisfied: pydantic<3,>=1.9.0 in /Users/novoseltseva.a/anaconda3/lib/python3.11/site-packages (from groq) (1.10.8)\n",
            "Requirement already satisfied: sniffio in /Users/novoseltseva.a/anaconda3/lib/python3.11/site-packages (from groq) (1.2.0)\n",
            "Requirement already satisfied: typing-extensions<5,>=4.10 in /Users/novoseltseva.a/anaconda3/lib/python3.11/site-packages (from groq) (4.13.2)\n",
            "Requirement already satisfied: idna>=2.8 in /Users/novoseltseva.a/anaconda3/lib/python3.11/site-packages (from anyio<5,>=3.5.0->groq) (3.4)\n",
            "Requirement already satisfied: certifi in /Users/novoseltseva.a/anaconda3/lib/python3.11/site-packages (from httpx<1,>=0.23.0->groq) (2024.6.2)\n",
            "Requirement already satisfied: httpcore==1.* in /Users/novoseltseva.a/anaconda3/lib/python3.11/site-packages (from httpx<1,>=0.23.0->groq) (1.0.2)\n",
            "Requirement already satisfied: h11<0.15,>=0.13 in /Users/novoseltseva.a/anaconda3/lib/python3.11/site-packages (from httpcore==1.*->httpx<1,>=0.23.0->groq) (0.14.0)\n"
          ]
        }
      ],
      "source": [
        "!pip install groq"
      ]
    },
    {
      "cell_type": "markdown",
      "metadata": {
        "id": "IdHxHUKWxJEB"
      },
      "source": [
        "Инициализация клиента"
      ]
    },
    {
      "cell_type": "code",
      "execution_count": 2,
      "metadata": {
        "id": "FYpUYnejw0se"
      },
      "outputs": [
        {
          "name": "stdout",
          "output_type": "stream",
          "text": [
            "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\n"
          ]
        }
      ],
      "source": [
        "from groq import Groq\n",
        "import os\n",
        "\n",
        "api_key = os.getenv(\"GROQ_API_KEY\")\n",
        "print(api_key)  # should print the actual key\n",
        "\n",
        "client = Groq(api_key=api_key)"
      ]
    },
    {
      "cell_type": "code",
      "execution_count": 3,
      "metadata": {
        "colab": {
          "base_uri": "https://localhost:8080/"
        },
        "id": "qE1ZuSDNJx7K",
        "outputId": "e2e2bac2-2b06-4a90-f6d5-86786252e09d"
      },
      "outputs": [
        {
          "name": "stdout",
          "output_type": "stream",
          "text": [
            "ModelListResponse(data=[Model(id='allam-2-7b', created=1737672203, object='model', owned_by='SDAIA', active=True, context_window=4096, public_apps=None, max_completion_tokens=4096), Model(id='llama3-8b-8192', created=1693721698, object='model', owned_by='Meta', active=True, context_window=8192, public_apps=None, max_completion_tokens=8192), Model(id='distil-whisper-large-v3-en', created=1693721698, object='model', owned_by='Hugging Face', active=True, context_window=448, public_apps=None, max_completion_tokens=448), Model(id='playai-tts', created=1740682771, object='model', owned_by='PlayAI', active=True, context_window=8192, public_apps=None, max_completion_tokens=8192), Model(id='mistral-saba-24b', created=1739996492, object='model', owned_by='Mistral AI', active=True, context_window=32768, public_apps=None, max_completion_tokens=32768), Model(id='meta-llama/llama-4-scout-17b-16e-instruct', created=1743874824, object='model', owned_by='Meta', active=True, context_window=131072, public_apps=None, max_completion_tokens=8192), Model(id='llama-guard-3-8b', created=1693721698, object='model', owned_by='Meta', active=True, context_window=8192, public_apps=None, max_completion_tokens=8192), Model(id='meta-llama/llama-guard-4-12b', created=1746743847, object='model', owned_by='Meta', active=True, context_window=131072, public_apps=None, max_completion_tokens=1024), Model(id='whisper-large-v3-turbo', created=1728413088, object='model', owned_by='OpenAI', active=True, context_window=448, public_apps=None, max_completion_tokens=448), Model(id='llama-3.3-70b-versatile', created=1733447754, object='model', owned_by='Meta', active=True, context_window=131072, public_apps=None, max_completion_tokens=32768), Model(id='meta-llama/llama-4-maverick-17b-128e-instruct', created=1743877158, object='model', owned_by='Meta', active=True, context_window=131072, public_apps=None, max_completion_tokens=8192), Model(id='gemma2-9b-it', created=1693721698, object='model', owned_by='Google', active=True, context_window=8192, public_apps=None, max_completion_tokens=8192), Model(id='llama-3.1-8b-instant', created=1693721698, object='model', owned_by='Meta', active=True, context_window=131072, public_apps=None, max_completion_tokens=131072), Model(id='compound-beta', created=1740880017, object='model', owned_by='Groq', active=True, context_window=8192, public_apps=None, max_completion_tokens=8192), Model(id='deepseek-r1-distill-llama-70b', created=1737924940, object='model', owned_by='DeepSeek / Meta', active=True, context_window=131072, public_apps=None, max_completion_tokens=131072), Model(id='llama3-70b-8192', created=1693721698, object='model', owned_by='Meta', active=True, context_window=8192, public_apps=None, max_completion_tokens=8192), Model(id='playai-tts-arabic', created=1740682783, object='model', owned_by='PlayAI', active=True, context_window=8192, public_apps=None, max_completion_tokens=8192), Model(id='qwen-qwq-32b', created=1741214760, object='model', owned_by='Alibaba Cloud', active=True, context_window=131072, public_apps=None, max_completion_tokens=131072), Model(id='whisper-large-v3', created=1693721698, object='model', owned_by='OpenAI', active=True, context_window=448, public_apps=None, max_completion_tokens=448), Model(id='compound-beta-mini', created=1742953279, object='model', owned_by='Groq', active=True, context_window=8192, public_apps=None, max_completion_tokens=8192)], object='list')\n"
          ]
        }
      ],
      "source": [
        "models = client.models.list()\n",
        "print(models)"
      ]
    },
    {
      "cell_type": "markdown",
      "metadata": {
        "id": "MAEUi3AjxKuo"
      },
      "source": [
        "Запросы к LLM"
      ]
    },
    {
      "cell_type": "markdown",
      "metadata": {
        "id": "80Wq3HEWMZVI"
      },
      "source": [
        "an example for annotation is an adoptated (by me..) version of another example from the #Bozhil Hristov. 2023. LFG and Slavic languages. In Mary Dalrymple (ed.), Handbook\n",
        "of Lexical Functional Grammar, 1753–1804. Berlin: Language Science Press. DOI: 10.\n",
        "5281/zenodo.10186030"
      ]
    },
    {
      "cell_type": "markdown",
      "metadata": {
        "id": "UI2u7stEIapN"
      },
      "source": [
        "Prompt option1"
      ]
    },
    {
      "cell_type": "code",
      "execution_count": null,
      "metadata": {
        "id": "yTf401WUIZSS"
      },
      "outputs": [],
      "source": [
        "core_concepts = client.chat.completions.create(messages=[\n",
        "                                                            {\"role\": \"system\",\n",
        "                                                            \"content\": \"\"\"\n",
        "\n",
        "You are a linguist working within the Lexical-Functional Grammar (LFG) framework. Your task is to annotate Russian sentences in 4 structured steps. Please follow this process:\n",
        "\n",
        "Step 1: Annotate Morphological Features\n",
        "Assign NUM, CASE, GEND, etc., to all relevant words (especially NPs and adjectives).\n",
        "\n",
        "Step 2: Mark Syntactic Dependencies\n",
        "Mark agreement between elements (e.g., adjectives agreeing with nouns) as CONCORD.\n",
        "\n",
        "Step 3: Identify Grammatical Functions\n",
        "Assign SUBJ, OBJ, etc., as appropriate, based on syntax and semantics.\n",
        "\n",
        "Step 4: Build Unified Representation\n",
        "Write an f-structure including:\n",
        "- PRED with valence\n",
        "- SUBJ and OBJ slots filled with syntactic (s) representations and morphological info\n",
        "\n",
        "Example (for sentence: 'те хорошие дети пришли'):\n",
        "\n",
        "те (s CONCORD NUM) = PL ; (s CONCORD CASE) = NOM\n",
        "хорошие (s CONCORD NUM) = PL ; (s CONCORD CASE) = NOM\n",
        "дети (s CONCORD NUM) = PL ; (s CONCORD CASE) = NOM\n",
        "пришли (f SUBJ INDEX NUM) = PL\n",
        "f[PRED 'пришли<SUBJ>';\n",
        "  SUBJ s[PRED 'дети', SPEC 'те', ADJ {[PRED 'хорошие']}, CONCORD [NUM PL], INDEX [NUM PL]]]\"\"\"\n",
        "                                                            },\n",
        "                                                            {\n",
        "                                                                \"role\": \"system\",\n",
        "                                                                 \"content\": \n",
        "\"\"\"Here is the glossary to stay alligned with the Lexical-Functional Grammar Theory:\n",
        "NUM\tNumber: SG, PL\n",
        "CASE\tCase: NOM, ACC, DAT, etc.\n",
        "GEND\tGender: MASC, FEM, NEUT\n",
        "PERS\tPerson: 1, 2, 3\n",
        "TENSE\tTense: PAST, PRES, etc.\n",
        "ASPECT\tAspect: PERF, IMPERF, etc.\n",
        "VOICE\tACTIVE, PASSIVE\n",
        "CONCORD\tMorphological agreement feature for modifiers (e.g., adjectives agreeing with nouns)\"\"\"\n",
        "                                                            },\n",
        "                                                            \n",
        "                                                            {\n",
        "                                                            \"role\": \"system\",\n",
        "                                                            \"content\": \n",
        "\"\"\"Guidelines for generating high-quality constituent and functional structures according to Lexical-Functional Grammar:\n",
        "Constituent Structure (c-structure):\n",
        "Each wordform must be preceded by a preterminal node   indicating its grammatical class (e.g., N, V, D, A).\n",
        "The number of  opening and closing brackets  must be equal — ensure balanced structure.\n",
        "All words from the input sentence must appear exactly once  in the c-structure, in the correct order. No duplications.  \n",
        "Follow standard phrase structure conventions (e.g., S → NP VP, NP → D A N, etc.).  \n",
        "Functional Structure (f-structure):   \n",
        "Ensure that the output satisfies the three well-formedness conditions as defined by Kaplan & Bresnan:  \n",
        "1.  Coherence  — All grammatical functions in the f-structure must be licensed by the predicate's subcategorization frame. No extra functions.  \n",
        "2.  Completeness  — All required grammatical functions from the predicate's argument structure must be present in f-structure. No omissions.  \n",
        "3.  Consistency (Unification)  — Attribute values must not conflict. Each attribute (e.g., NUM, CASE) must have a unique, non-contradictory value.  \n",
        "                                                              \n",
        "These constraints are essential for syntactic and semantic correctness. Use them to verify and revise any proposed annotation of the sentence.\"\"\"\n",
        "                                                            },\n",
        "                                                            {    \"role\": \"user\",\n",
        "                                                                \"content\": \n",
        "\"Your task is to annotate the following sentence: 'эти зеленые деревья зацвели' \"\n",
        "                                                            },\n",
        "\n",
        "                                                            {\n",
        "                                                                \"role\": \"user\",\n",
        "                                                                \"content\": \n",
        "\"Review your parse.  Are the grammatical functions, categories ans others labeled correctly?\"\n",
        "                                                            }\n",
        "\n",
        "                                                        ],\n",
        "                                                        # Форматирование ответа\n",
        "                                                        #response_format=\n",
        "                                                        #{\n",
        "                                                        #    \"type\": \"json_object\"\n",
        "                                                        #},\n",
        "                                                        model='llama-3.1-8b-instant', # Тип модели\n",
        "                                                        stream=False,\n",
        "                                                        max_tokens=1000, # Максимальная длина выдачи, желательно поменять под задачу\n",
        "                                                        temperature=0.7, # Температура\n",
        "                                                        top_p=0.5 # Топ-P отвечает за разнообразие выдачи\n",
        "                                                        ).choices[0].message.content"
      ]
    },
    {
      "cell_type": "code",
      "execution_count": 14,
      "metadata": {
        "colab": {
          "base_uri": "https://localhost:8080/"
        },
        "id": "re7a727iAQgZ",
        "outputId": "e1e6b70b-e75f-4ea1-bc00-2638559472b8"
      },
      "outputs": [
        {
          "name": "stdout",
          "output_type": "stream",
          "text": [
            "Let's review the annotation of the sentence 'эти зеленые деревья зацвели'.\n",
            "\n",
            "Step 1: Annotate Morphological Features\n",
            "\n",
            "- эти (s CONCORD NUM) = PL ; (s CONCORD CASE) = NOM\n",
            "- зеленые (s CONCORD NUM) = PL ; (s CONCORD CASE) = NOM\n",
            "- деревья (s CONCORD NUM) = PL ; (s CONCORD CASE) = NOM\n",
            "- зацвели (f SUBJ INDEX NUM) = PL\n",
            "\n",
            "Step 2: Mark Syntactic Dependencies\n",
            "\n",
            "- эти (s CONCORD NUM) = PL ; (s CONCORD CASE) = NOM (concord with деревья)\n",
            "- зеленые (s CONCORD NUM) = PL ; (s CONCORD CASE) = NOM (concord with деревья)\n",
            "- деревья (s CONCORD NUM) = PL ; (s CONCORD CASE) = NOM (head of NP)\n",
            "- зацвели (f SUBJ INDEX NUM) = PL (head of VP)\n",
            "\n",
            "Step 3: Identify Grammatical Functions\n",
            "\n",
            "- эти (s SUBJ) (subject of the sentence)\n",
            "- зеленые (s ADJ) (adjective modifying деревья)\n",
            "- деревья (s OBJ) (object of the sentence)\n",
            "- зацвели (f SUBJ INDEX NUM) = PL (head of VP, predicate of the sentence)\n",
            "\n",
            "Step 4: Build Unified Representation\n",
            "\n",
            "f[PRED 'зацвели<SUBJ>';\n",
            "  SUBJ s[PRED 'дрова', SPEC 'эти', ADJ {[PRED 'зеленые']}, CONCORD [NUM PL], INDEX [NUM PL]];\n",
            "  OBJ s[PRED 'дрова', CONCORD [NUM PL], CASE [ACC]]]\n",
            "\n",
            "However, the annotation of the adjective 'зеленые' is incorrect. The adjective 'зеленые' agrees with the noun 'деревья' in number and case, but it should be annotated as a modifier of the noun 'деревья', not as a subject.\n",
            "\n",
            "Here is the corrected annotation:\n",
            "\n",
            "f[PRED 'зацвели<SUBJ>';\n",
            "  SUBJ s[PRED 'дрова', SPEC 'эти', MOD {[PRED 'зеленые']}, CONCORD [NUM PL], INDEX [NUM PL]];\n",
            "  OBJ s[PRED 'дрова', CONCORD [NUM PL], CASE [ACC]]]\n",
            "\n",
            "In this\n"
          ]
        }
      ],
      "source": [
        "print (core_concepts)"
      ]
    },
    {
      "cell_type": "markdown",
      "metadata": {
        "id": "PYdIX8rnIetG"
      },
      "source": [
        "Prompt option2: the glossary is full"
      ]
    },
    {
      "cell_type": "code",
      "execution_count": null,
      "metadata": {
        "id": "Cn87wyZCxWdl"
      },
      "outputs": [],
      "source": [
        "core_concepts = client.chat.completions.create(messages=[\n",
        "                                                            {\"role\": \"system\",\n",
        "                                                            \"content\": \"\"\"\n",
        "\n",
        "You are a linguist working within the Lexical-Functional Grammar (LFG) framework. Your task is to annotate Russian sentences in 4 structured steps. Please follow this process:\n",
        "\n",
        "Step 1: Annotate Morphological Features\n",
        "Assign NUM, CASE, GEND, etc., to all relevant words (especially NPs and adjectives).\n",
        "\n",
        "Step 2: Mark Syntactic Dependencies\n",
        "Mark agreement between elements (e.g., adjectives agreeing with nouns) as CONCORD.\n",
        "\n",
        "Step 3: Identify Grammatical Functions\n",
        "Assign SUBJ, OBJ, etc., as appropriate, based on syntax and semantics.\n",
        "\n",
        "Step 4: Build Unified Representation\n",
        "Write an f-structure including:\n",
        "- PRED with valence\n",
        "- SUBJ and OBJ slots filled with syntactic (s) representations and morphological info\n",
        "\n",
        "Example (for sentence: 'те хорошие дети пришли'):\n",
        "\n",
        "те (s CONCORD NUM) = PL ; (s CONCORD CASE) = NOM\n",
        "хорошие (s CONCORD NUM) = PL ; (s CONCORD CASE) = NOM\n",
        "дети (s CONCORD NUM) = PL ; (s CONCORD CASE) = NOM\n",
        "пришли (f SUBJ INDEX NUM) = PL\n",
        "f[PRED 'пришли<SUBJ>';\n",
        "  SUBJ s[PRED 'дети', SPEC 'те', ADJ {[PRED 'хорошие']}, CONCORD [NUM PL], INDEX [NUM PL]]]\"\"\"\n",
        "                                                            },\n",
        "                                                            {\n",
        "                                                                \"role\": \"system\",\n",
        "                                                                 \"content\": \n",
        "\"\"\"Use the following glossary of grammatical functions according to Lexical-Functional Grammar (LFG):    \n",
        "SUBJ (субъект) — the syntactic subject of the clause.    \n",
        "Examples:    \n",
        "- Some people with no shame walked in and wrecked the party.    \n",
        "- The party was wrecked by some people with no shame.      \n",
        "OBJ (object, прямой объект) — the first core object in the clause.    \n",
        "Examples:    \n",
        "- Ricky gave John a glass.    \n",
        "- Ricky gave a glass to John.      \n",
        "OBJ2 / OBJΘ (второй объект) — the second core object, often thematically restricted.    \n",
        "Examples:    \n",
        "- Sandy gave John a glass.    \n",
        "- Tom baked Susan a cake.      \n",
        "OBL / OBLΘ (косвенный объект) — oblique argument, usually prepositional or case-marked.    \n",
        "Examples:    \n",
        "- Julia placed the vase on the desk.    \n",
        "- Ricky gave a glass to John.      \n",
        "COMP (клаузальный комплемент) — a closed clausal argument with its own subject.    \n",
        "Examples:    \n",
        "- Peggy told Matt that she had won the prize.      \n",
        "XCOMP (открытый клаузальный комплемент) — an open clausal argument whose subject is controlled by another element.    \n",
        "Examples:    \n",
        "- I told Patrick to quit.    \n",
        "- Peggy-Sue seems to be a complete fraud.      \n",
        "ADJ (адъюнкт) — optional modifier (temporal, locative, manner, etc.).    \n",
        "Examples:    \n",
        "- Mary read a good book.    \n",
        "- Mary counted the cars very quickly.    \n",
        "- Sally killed a bug in the yard.    \n",
        "- Since she had no money, Mary was forced to get a job.      \n",
        "XADJ (контролируемый адъюнкт) — adjunct whose subject is controlled by a higher clause argument.    \n",
        "Example:    \n",
        "- Having no money, Mary was forced to get a job.      \n",
        "SPEC (спецификатор) — determiner, possessor, or quantifier inside a noun phrase.    \n",
        "Examples:    \n",
        "- John's book's cover is red.    \n",
        "- At least three books are red.\"\"\"\n",
        "                                                            },\n",
        "                                                            \n",
        "                                                            {\n",
        "                                                            \"role\": \"system\",\n",
        "                                                            \"content\": \n",
        "\"\"\"Guidelines for generating high-quality constituent and functional structures according to Lexical-Functional Grammar:\n",
        "Constituent Structure (c-structure):\n",
        "Each wordform must be preceded by a preterminal node   indicating its grammatical class (e.g., N, V, D, A).\n",
        "The number of  opening and closing brackets  must be equal — ensure balanced structure.\n",
        "All words from the input sentence must appear exactly once  in the c-structure, in the correct order. No duplications.  \n",
        "Follow standard phrase structure conventions (e.g., S → NP VP, NP → D A N, etc.).  \n",
        "Functional Structure (f-structure):   \n",
        "Ensure that the output satisfies the three well-formedness conditions as defined by Kaplan & Bresnan:  \n",
        "1.  Coherence  — All grammatical functions in the f-structure must be licensed by the predicate's subcategorization frame. No extra functions.  \n",
        "2.  Completeness  — All required grammatical functions from the predicate's argument structure must be present in f-structure. No omissions.  \n",
        "3.  Consistency (Unification)  — Attribute values must not conflict. Each attribute (e.g., NUM, CASE) must have a unique, non-contradictory value.  \n",
        "                                                              \n",
        "These constraints are essential for syntactic and semantic correctness. Use them to verify and revise any proposed annotation of the sentence.\"\"\"\n",
        "                                                            },\n",
        "                                                            {    \"role\": \"user\",\n",
        "                                                                \"content\": \n",
        "\"Your task is to annotate the following sentence: 'эти зеленые деревья зацвели' \"\n",
        "                                                            },\n",
        "\n",
        "                                                            {\n",
        "                                                                \"role\": \"user\",\n",
        "                                                                \"content\": \n",
        "\"Review your parse.  Are the grammatical functions, categories ans others labeled correctly?\"\n",
        "                                                            }\n",
        "\n",
        "                                                        ],\n",
        "                                                        # Форматирование ответа\n",
        "                                                        #response_format=\n",
        "                                                        #{\n",
        "                                                        #    \"type\": \"json_object\"\n",
        "                                                        #},\n",
        "                                                        model='llama-3.1-8b-instant', # Тип модели\n",
        "                                                        stream=False,\n",
        "                                                        max_tokens=1000, # Максимальная длина выдачи, желательно поменять под задачу\n",
        "                                                        temperature=0.7, # Температура\n",
        "                                                        top_p=0.5 # Топ-P отвечает за разнообразие выдачи\n",
        "                                                        ).choices[0].message.content"
      ]
    },
    {
      "cell_type": "code",
      "execution_count": 16,
      "metadata": {
        "id": "weMP2xrWLQtd"
      },
      "outputs": [
        {
          "name": "stdout",
          "output_type": "stream",
          "text": [
            "Let's review the annotation of the sentence 'эти зеленые деревья зацвели'.\n",
            "\n",
            "Step 1: Annotate Morphological Features\n",
            "\n",
            "эти (s CONCORD NUM) = PL ; (s CONCORD CASE) = NOM\n",
            "зеленые (s CONCORD NUM) = PL ; (s CONCORD CASE) = NOM\n",
            "деревья (s CONCORD NUM) = PL ; (s CONCORD CASE) = NOM\n",
            "зацвели (f SUBJ INDEX NUM) = PL\n",
            "\n",
            "Step 2: Mark Syntactic Dependencies\n",
            "\n",
            "The adjective 'зеленые' agrees with the noun 'деревья' in number and case, so we add a CONCORD relation:\n",
            "\n",
            "эти (s CONCORD NUM) = PL ; (s CONCORD CASE) = NOM\n",
            "зеленые (s CONCORD NUM) = PL ; (s CONCORD CASE) = NOM ; (s CONCORD AGREEMENT) = деревья\n",
            "деревья (s CONCORD NUM) = PL ; (s CONCORD CASE) = NOM\n",
            "зацвели (f SUBJ INDEX NUM) = PL\n",
            "\n",
            "Step 3: Identify Grammatical Functions\n",
            "\n",
            "The subject of the sentence is 'эти зеленые деревья', so we assign the SUBJ function to the noun phrase:\n",
            "\n",
            "эти (s CONCORD NUM) = PL ; (s CONCORD CASE) = NOM\n",
            "зеленые (s CONCORD NUM) = PL ; (s CONCORD CASE) = NOM ; (s CONCORD AGREEMENT) = деревья\n",
            "деревья (s CONCORD NUM) = PL ; (s CONCORD CASE) = NOM ; (f SUBJ INDEX NUM) = PL\n",
            "зацвели (f SUBJ INDEX NUM) = PL\n",
            "\n",
            "However, 'зацвели' is the verb, and 'эти зеленые деревья' is the subject. So, we assign the SUBJ function to the noun phrase and the OBJ function to the verb is not correct. We need to assign OBJ function to the verb 'зацвели' because it is the direct object of the verb.\n",
            "\n",
            "The correct annotation is:\n",
            "\n",
            "эти (s CONCORD NUM) = PL ; (s CONCORD CASE) = NOM\n",
            "зеленые (s CONCORD NUM) = PL ; (s CONCORD CASE) = NOM ; (s CONCORD AGREEMENT) = деревья\n",
            "деревья (\n"
          ]
        }
      ],
      "source": [
        "print (core_concepts)"
      ]
    },
    {
      "cell_type": "markdown",
      "metadata": {
        "id": "5S4IKAVOLa0H"
      },
      "source": [
        "Prompt option3: the example is given as the last system content (perhaps will be memorised better by the model)\n"
      ]
    },
    {
      "cell_type": "code",
      "execution_count": 17,
      "metadata": {
        "id": "T9NipLsSLrsi"
      },
      "outputs": [],
      "source": [
        "core_concepts = client.chat.completions.create(messages=[\n",
        "                                                            {\"role\": \"system\",\n",
        "                                                            \"content\": \"\"\"\n",
        "\n",
        "You are a linguist working within the Lexical-Functional Grammar (LFG) framework. Your task is to annotate Russian sentences in 4 structured steps. Please follow this process:\n",
        "\n",
        "Step 1: Annotate Morphological Features\n",
        "Assign NUM, CASE, GEND, etc., to all relevant words (especially NPs and adjectives).\n",
        "\n",
        "Step 2: Mark Syntactic Dependencies\n",
        "Mark agreement between elements (e.g., adjectives agreeing with nouns) as CONCORD.\n",
        "\n",
        "Step 3: Identify Grammatical Functions\n",
        "Assign SUBJ, OBJ, etc., as appropriate, based on syntax and semantics.\n",
        "\n",
        "Step 4: Build Unified Representation\n",
        "Write an f-structure including:\n",
        "- PRED with valence\n",
        "- SUBJ and OBJ slots filled with syntactic (s) representations and morphological info\"\"\"\n",
        "                                                            },\n",
        "                                                            {\n",
        "                                                                \"role\": \"system\",\n",
        "                                                                 \"content\": \n",
        "\"\"\"Here is the glossary to stay aligned with the Lexical-Functional Grammar (LFG) Theory:\n",
        "GRAMMATICAL FEATURES\n",
        "NUM — Number: SG (singular), PL (plural)\n",
        "CASE — Case: NOM (nominative), ACC (accusative), DAT (dative), GEN (genitive), INS (instrumental), LOC (locative), etc.  \\n\\\n",
        "GEND — Gender: MASC (masculine), FEM (feminine), NEUT (neuter)\n",
        "PERS — Person: 1 (first), 2 (second), 3 (third)\n",
        "TENSE — Tense: PAST, PRES, FUT\n",
        "ASPECT — Aspect: PERF (perfective), IMPERF (imperfective)\n",
        "VOICE — Voice: ACTIVE, PASSIVE\n",
        "MOOD — Mood: IND (indicative), IMP (imperative), SUBJ (subjunctive)\n",
        "CONCORD — Agreement features, usually between determiners, adjectives, and nouns (NUM, CASE, GEND)\n",
        "INDEX — Feature bundle used to track identity and agreement between elements (e.g., between subject and verb)\n",
        "\n",
        "SUBJ — Subject (core argument)\n",
        "OBJ — Object (core argument)\n",
        "IOBJ — Indirect object\n",
        "OBL — Oblique (non-core argument, typically marked with preposition or case)\n",
        "COMP — Closed complement (clausal complement with subject)\n",
        "XCOMP — Open complement (clausal complement without subject, subject is controlled)\n",
        "ADJUNCT — Modifier (optional, peripheral element)\n",
        "SPEC — Specifier (e.g., demonstratives or determiners like 'этот', 'тот')\n",
        "ADJ — Adjective or modifier inside a noun phrase\n",
        "STRUCTURE MAPPINGS\n",
        "C-structure — Constituent structure (phrase structure tree: S → NP + VP, etc.)\n",
        "F-structure — Functional structure: abstract mapping of functions and features (e.g., SUBJ, OBJ, TENSE)\n",
        "PRED — Predicate representation: 'читать<SUBJ,OBJ>'\n",
        "(↑ SUBJ) = ↓ — Mapping rule: the daughter node is the SUBJ of the mother node\n",
        "↑ = ↓ — Identity between nodes (shared features)\n",
        "Use this glossary to ensure consistency and theoretical accuracy when annotating or revising sentence structures in LFG.\"\"\"\n",
        "                                                            },\n",
        "                                                            \n",
        "                                                            {\n",
        "                                                            \"role\": \"system\",\n",
        "                                                            \"content\": \n",
        "\"\"\"Guidelines for generating high-quality constituent and functional structures according to Lexical-Functional Grammar:\n",
        "Constituent Structure (c-structure):\n",
        "Each wordform must be preceded by a preterminal node   indicating its grammatical class (e.g., N, V, D, A).\n",
        "The number of  opening and closing brackets  must be equal — ensure balanced structure.\n",
        "All words from the input sentence must appear exactly once  in the c-structure, in the correct order. No duplications.  \n",
        "Follow standard phrase structure conventions (e.g., S → NP VP, NP → D A N, etc.).  \n",
        "Functional Structure (f-structure):   \n",
        "Ensure that the output satisfies the three well-formedness conditions as defined by Kaplan & Bresnan:  \n",
        "1.  Coherence  — All grammatical functions in the f-structure must be licensed by the predicate's subcategorization frame. No extra functions.  \n",
        "2.  Completeness  — All required grammatical functions from the predicate's argument structure must be present in f-structure. No omissions.  \n",
        "3.  Consistency (Unification)  — Attribute values must not conflict. Each attribute (e.g., NUM, CASE) must have a unique, non-contradictory value.\n",
        "\n",
        "Example (for sentence: 'те хорошие дети пришли'):\n",
        "\n",
        "те (s CONCORD NUM) = PL ; (s CONCORD CASE) = NOM\n",
        "хорошие (s CONCORD NUM) = PL ; (s CONCORD CASE) = NOM\n",
        "дети (s CONCORD NUM) = PL ; (s CONCORD CASE) = NOM\n",
        "пришли (f SUBJ INDEX NUM) = PL\n",
        "f[PRED 'пришли<SUBJ>';\n",
        "SUBJ s[PRED 'дети', SPEC 'те', ADJ {[PRED 'хорошие']}, CONCORD [NUM PL], INDEX [NUM PL]]]\n",
        "                                                              \n",
        "These constraints are essential for syntactic and semantic correctness. Use them to verify and revise any proposed annotation of the sentence.\"\"\"\n",
        "                                                            },\n",
        "                                                            {    \"role\": \"user\",\n",
        "                                                                \"content\": \n",
        "\"Your task is to annotate the following sentence: 'эти зеленые деревья зацвели' \"\n",
        "                                                            },\n",
        "\n",
        "                                                            {\n",
        "                                                                \"role\": \"user\",\n",
        "                                                                \"content\": \n",
        "\"Review your parse.  Are the grammatical functions, categories ans others labeled correctly?\"\n",
        "                                                            }\n",
        "\n",
        "                                                        ],\n",
        "                                                        # Форматирование ответа\n",
        "                                                        #response_format=\n",
        "                                                        #{\n",
        "                                                        #    \"type\": \"json_object\"\n",
        "                                                        #},\n",
        "                                                        model='llama-3.1-8b-instant', # Тип модели\n",
        "                                                        stream=False,\n",
        "                                                        max_tokens=1000, # Максимальная длина выдачи, желательно поменять под задачу\n",
        "                                                        temperature=0.7, # Температура\n",
        "                                                        top_p=0.5 # Топ-P отвечает за разнообразие выдачи\n",
        "                                                        ).choices[0].message.content"
      ]
    },
    {
      "cell_type": "code",
      "execution_count": 18,
      "metadata": {
        "id": "43qIymMKL1ie"
      },
      "outputs": [
        {
          "name": "stdout",
          "output_type": "stream",
          "text": [
            "Let's review the annotation of the sentence 'эти зеленые деревья зацвели'.\n",
            "\n",
            "Step 1: Annotate Morphological Features\n",
            "\n",
            "1. эти (s CONCORD NUM) = PL ; (s CONCORD CASE) = NOM\n",
            "2. зеленые (s CONCORD NUM) = PL ; (s CONCORD CASE) = NOM\n",
            "3. деревья (s CONCORD NUM) = PL ; (s CONCORD CASE) = NOM\n",
            "4. зацвели (f SUBJ INDEX NUM) = PL\n",
            "\n",
            "Step 2: Mark Syntactic Dependencies\n",
            "\n",
            "1. эти (s CONCORD NUM) = PL ; (s CONCORD CASE) = NOM\n",
            "2. зеленые (s CONCORD NUM) = PL ; (s CONCORD CASE) = NOM\n",
            "3. деревья (s CONCORD NUM) = PL ; (s CONCORD CASE) = NOM\n",
            "4. зацвели (f SUBJ INDEX NUM) = PL\n",
            "\n",
            "Step 3: Identify Grammatical Functions\n",
            "\n",
            "1. эти (s SPEC)\n",
            "2. зеленые (s ADJ)\n",
            "3. деревья (s SUBJ)\n",
            "4. зацвели (f PRED)\n",
            "\n",
            "Step 4: Build Unified Representation\n",
            "\n",
            "f[PRED 'зацвели<SUBJ>';\n",
            "SUBJ s[PRED 'деревья', SPEC 'эти', ADJ {[PRED 'зеленые']}, CONCORD [NUM PL], INDEX [NUM PL]]]\n",
            "\n",
            "However, upon reviewing the annotation, I noticed the following issues:\n",
            "\n",
            "- The adjective 'зеленые' should agree with the noun 'деревья' in case, so it should be GEN instead of NOM.\n",
            "- The subject 'деревья' should be in the NOM case, not NOM.\n",
            "- The predicate 'зацвели' should be in the PERFECTIVE aspect, which is not annotated.\n",
            "\n",
            "Here is the corrected annotation:\n",
            "\n",
            "1. эти (s CONCORD NUM) = PL ; (s CONCORD CASE) = NOM\n",
            "2. зеленые (s CONCORD NUM) = PL ; (s CONCORD CASE) = GEN\n",
            "3. деревья (s CONCORD NUM) = PL ; (s CONCORD CASE) = NOM\n",
            "4. зацвели (f SUBJ INDEX NUM) = PL ; (f ASPECT) = PERF\n",
            "\n",
            "Step 2: Mark Syntactic Dependencies\n",
            "\n",
            "1. эти (s CONCORD NUM) = PL ; (s CONCORD CASE) = NOM\n",
            "2. зеленые (s CONCORD NUM) = PL ; (s CONCORD CASE) = GEN\n",
            "3. деревья (s CONCORD NUM) = PL ; (s CONCORD CASE) = NOM\n",
            "4. зацвели (f SUBJ INDEX NUM) = PL ; (f ASPECT) = PERF\n",
            "\n",
            "Step 3: Identify Grammatical Functions\n",
            "\n",
            "1. эти (s SPEC)\n",
            "2. зеленые (s ADJ)\n",
            "3. деревья (s SUBJ)\n",
            "4. зацвели (f PRED)\n",
            "\n",
            "Step 4: Build Unified Representation\n",
            "\n",
            "f[PRED 'зацвели<SUBJ>';\n",
            "SUBJ s[PRED 'деревья', SPEC 'эти', ADJ {[PRED 'зеленые']}, CONCORD [NUM PL], CASE NOM, INDEX [NUM PL]]]\n",
            "\n",
            "This corrected annotation should accurately represent the grammatical structure of the sentence 'эти зеленые деревья зацвели'.\n"
          ]
        }
      ],
      "source": [
        "print (core_concepts)"
      ]
    },
    {
      "cell_type": "markdown",
      "metadata": {
        "id": "XRfHslog76Cb"
      },
      "source": [
        "Benchmarks: treebank ru?\n",
        "https://universaldependencies.org/treebanks/ru_syntagrus/index.html\n",
        "https://universaldependencies.org/treebanks/ru_gsd/index.html#ud-russian-gsd\n",
        "https://universaldependencies.org/treebanks/ru_taiga/index.html#ud-russian-taiga\n",
        "https://universaldependencies.org/treebanks/ru_pud/index.html#ud-russian-pud"
      ]
    }
  ],
  "metadata": {
    "colab": {
      "include_colab_link": true,
      "provenance": []
    },
    "kernelspec": {
      "display_name": "base",
      "language": "python",
      "name": "python3"
    },
    "language_info": {
      "codemirror_mode": {
        "name": "ipython",
        "version": 3
      },
      "file_extension": ".py",
      "mimetype": "text/x-python",
      "name": "python",
      "nbconvert_exporter": "python",
      "pygments_lexer": "ipython3",
      "version": "3.11.5"
    }
  },
  "nbformat": 4,
  "nbformat_minor": 0
}
